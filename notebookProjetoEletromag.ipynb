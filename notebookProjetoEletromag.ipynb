{
 "cells": [
  {
   "cell_type": "markdown",
   "id": "6c8e62b3",
   "metadata": {},
   "source": [
    "# Projeto final de Eletromagnetismo e Ondulatória\n",
    "\n",
    "## Alunos: Daniel Delattre, Guilherme Carvalho e Rafael Malcervelli\n",
    "## Professores: Carlos Marmo e Rodrigo Carareto\n",
    "\n",
    "#### O projeto consiste no estudo dos carregadores elétricos sem fio"
   ]
  },
  {
   "cell_type": "code",
   "execution_count": 1,
   "id": "12f0c473",
   "metadata": {},
   "outputs": [
    {
     "name": "stdout",
     "output_type": "stream",
     "text": [
      "Eu amo o Dani e o Timão\n"
     ]
    }
   ],
   "source": [
    "print(\"Eu amo o Dani e o Timão\")"
   ]
  }
 ],
 "metadata": {
  "kernelspec": {
   "display_name": "Python 3",
   "language": "python",
   "name": "python3"
  },
  "language_info": {
   "codemirror_mode": {
    "name": "ipython",
    "version": 3
   },
   "file_extension": ".py",
   "mimetype": "text/x-python",
   "name": "python",
   "nbconvert_exporter": "python",
   "pygments_lexer": "ipython3",
   "version": "3.8.8"
  }
 },
 "nbformat": 4,
 "nbformat_minor": 5
}
